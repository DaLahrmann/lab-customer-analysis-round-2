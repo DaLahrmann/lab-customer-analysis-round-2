{
 "cells": [
  {
   "cell_type": "code",
   "execution_count": 72,
   "metadata": {},
   "outputs": [
    {
     "data": {
      "text/html": [
       "<div>\n",
       "<style scoped>\n",
       "    .dataframe tbody tr th:only-of-type {\n",
       "        vertical-align: middle;\n",
       "    }\n",
       "\n",
       "    .dataframe tbody tr th {\n",
       "        vertical-align: top;\n",
       "    }\n",
       "\n",
       "    .dataframe thead th {\n",
       "        text-align: right;\n",
       "    }\n",
       "</style>\n",
       "<table border=\"1\" class=\"dataframe\">\n",
       "  <thead>\n",
       "    <tr style=\"text-align: right;\">\n",
       "      <th></th>\n",
       "      <th>Unnamed: 0</th>\n",
       "      <th>Customer</th>\n",
       "      <th>State</th>\n",
       "      <th>Customer Lifetime Value</th>\n",
       "      <th>Response</th>\n",
       "      <th>Coverage</th>\n",
       "      <th>Education</th>\n",
       "      <th>Effective To Date</th>\n",
       "      <th>EmploymentStatus</th>\n",
       "      <th>Gender</th>\n",
       "      <th>...</th>\n",
       "      <th>Number of Open Complaints</th>\n",
       "      <th>Number of Policies</th>\n",
       "      <th>Policy Type</th>\n",
       "      <th>Policy</th>\n",
       "      <th>Renew Offer Type</th>\n",
       "      <th>Sales Channel</th>\n",
       "      <th>Total Claim Amount</th>\n",
       "      <th>Vehicle Class</th>\n",
       "      <th>Vehicle Size</th>\n",
       "      <th>Vehicle Type</th>\n",
       "    </tr>\n",
       "  </thead>\n",
       "  <tbody>\n",
       "    <tr>\n",
       "      <th>0</th>\n",
       "      <td>0</td>\n",
       "      <td>DK49336</td>\n",
       "      <td>Arizona</td>\n",
       "      <td>4809.216960</td>\n",
       "      <td>No</td>\n",
       "      <td>Basic</td>\n",
       "      <td>College</td>\n",
       "      <td>2/18/11</td>\n",
       "      <td>Employed</td>\n",
       "      <td>M</td>\n",
       "      <td>...</td>\n",
       "      <td>0.0</td>\n",
       "      <td>9</td>\n",
       "      <td>Corporate Auto</td>\n",
       "      <td>Corporate L3</td>\n",
       "      <td>Offer3</td>\n",
       "      <td>Agent</td>\n",
       "      <td>292.800000</td>\n",
       "      <td>Four-Door Car</td>\n",
       "      <td>Medsize</td>\n",
       "      <td>NaN</td>\n",
       "    </tr>\n",
       "    <tr>\n",
       "      <th>1</th>\n",
       "      <td>1</td>\n",
       "      <td>KX64629</td>\n",
       "      <td>California</td>\n",
       "      <td>2228.525238</td>\n",
       "      <td>No</td>\n",
       "      <td>Basic</td>\n",
       "      <td>College</td>\n",
       "      <td>1/18/11</td>\n",
       "      <td>Unemployed</td>\n",
       "      <td>F</td>\n",
       "      <td>...</td>\n",
       "      <td>0.0</td>\n",
       "      <td>1</td>\n",
       "      <td>Personal Auto</td>\n",
       "      <td>Personal L3</td>\n",
       "      <td>Offer4</td>\n",
       "      <td>Call Center</td>\n",
       "      <td>744.924331</td>\n",
       "      <td>Four-Door Car</td>\n",
       "      <td>Medsize</td>\n",
       "      <td>NaN</td>\n",
       "    </tr>\n",
       "    <tr>\n",
       "      <th>2</th>\n",
       "      <td>2</td>\n",
       "      <td>LZ68649</td>\n",
       "      <td>Washington</td>\n",
       "      <td>14947.917300</td>\n",
       "      <td>No</td>\n",
       "      <td>Basic</td>\n",
       "      <td>Bachelor</td>\n",
       "      <td>2/10/11</td>\n",
       "      <td>Employed</td>\n",
       "      <td>M</td>\n",
       "      <td>...</td>\n",
       "      <td>0.0</td>\n",
       "      <td>2</td>\n",
       "      <td>Personal Auto</td>\n",
       "      <td>Personal L3</td>\n",
       "      <td>Offer3</td>\n",
       "      <td>Call Center</td>\n",
       "      <td>480.000000</td>\n",
       "      <td>SUV</td>\n",
       "      <td>Medsize</td>\n",
       "      <td>A</td>\n",
       "    </tr>\n",
       "    <tr>\n",
       "      <th>3</th>\n",
       "      <td>3</td>\n",
       "      <td>XL78013</td>\n",
       "      <td>Oregon</td>\n",
       "      <td>22332.439460</td>\n",
       "      <td>Yes</td>\n",
       "      <td>Extended</td>\n",
       "      <td>College</td>\n",
       "      <td>1/11/11</td>\n",
       "      <td>Employed</td>\n",
       "      <td>M</td>\n",
       "      <td>...</td>\n",
       "      <td>0.0</td>\n",
       "      <td>2</td>\n",
       "      <td>Corporate Auto</td>\n",
       "      <td>Corporate L3</td>\n",
       "      <td>Offer2</td>\n",
       "      <td>Branch</td>\n",
       "      <td>484.013411</td>\n",
       "      <td>Four-Door Car</td>\n",
       "      <td>Medsize</td>\n",
       "      <td>A</td>\n",
       "    </tr>\n",
       "    <tr>\n",
       "      <th>4</th>\n",
       "      <td>4</td>\n",
       "      <td>QA50777</td>\n",
       "      <td>Oregon</td>\n",
       "      <td>9025.067525</td>\n",
       "      <td>No</td>\n",
       "      <td>Premium</td>\n",
       "      <td>Bachelor</td>\n",
       "      <td>1/17/11</td>\n",
       "      <td>Medical Leave</td>\n",
       "      <td>F</td>\n",
       "      <td>...</td>\n",
       "      <td>NaN</td>\n",
       "      <td>7</td>\n",
       "      <td>Personal Auto</td>\n",
       "      <td>Personal L2</td>\n",
       "      <td>Offer1</td>\n",
       "      <td>Branch</td>\n",
       "      <td>707.925645</td>\n",
       "      <td>Four-Door Car</td>\n",
       "      <td>Medsize</td>\n",
       "      <td>NaN</td>\n",
       "    </tr>\n",
       "  </tbody>\n",
       "</table>\n",
       "<p>5 rows × 26 columns</p>\n",
       "</div>"
      ],
      "text/plain": [
       "   Unnamed: 0 Customer       State  Customer Lifetime Value Response  \\\n",
       "0           0  DK49336     Arizona              4809.216960       No   \n",
       "1           1  KX64629  California              2228.525238       No   \n",
       "2           2  LZ68649  Washington             14947.917300       No   \n",
       "3           3  XL78013      Oregon             22332.439460      Yes   \n",
       "4           4  QA50777      Oregon              9025.067525       No   \n",
       "\n",
       "   Coverage Education Effective To Date EmploymentStatus Gender  ...  \\\n",
       "0     Basic   College           2/18/11         Employed      M  ...   \n",
       "1     Basic   College           1/18/11       Unemployed      F  ...   \n",
       "2     Basic  Bachelor           2/10/11         Employed      M  ...   \n",
       "3  Extended   College           1/11/11         Employed      M  ...   \n",
       "4   Premium  Bachelor           1/17/11    Medical Leave      F  ...   \n",
       "\n",
       "   Number of Open Complaints Number of Policies     Policy Type        Policy  \\\n",
       "0                        0.0                  9  Corporate Auto  Corporate L3   \n",
       "1                        0.0                  1   Personal Auto   Personal L3   \n",
       "2                        0.0                  2   Personal Auto   Personal L3   \n",
       "3                        0.0                  2  Corporate Auto  Corporate L3   \n",
       "4                        NaN                  7   Personal Auto   Personal L2   \n",
       "\n",
       "   Renew Offer Type  Sales Channel  Total Claim Amount  Vehicle Class  \\\n",
       "0            Offer3          Agent          292.800000  Four-Door Car   \n",
       "1            Offer4    Call Center          744.924331  Four-Door Car   \n",
       "2            Offer3    Call Center          480.000000            SUV   \n",
       "3            Offer2         Branch          484.013411  Four-Door Car   \n",
       "4            Offer1         Branch          707.925645  Four-Door Car   \n",
       "\n",
       "  Vehicle Size Vehicle Type  \n",
       "0      Medsize          NaN  \n",
       "1      Medsize          NaN  \n",
       "2      Medsize            A  \n",
       "3      Medsize            A  \n",
       "4      Medsize          NaN  \n",
       "\n",
       "[5 rows x 26 columns]"
      ]
     },
     "execution_count": 72,
     "metadata": {},
     "output_type": "execute_result"
    }
   ],
   "source": [
    "import pandas as pd\n",
    "import numpy as np\n",
    "import statistics as st\n",
    "file=pd.read_csv('files_for_lab/csv_files/marketing_customer_analysis.csv')\n",
    "file.head()"
   ]
  },
  {
   "cell_type": "code",
   "execution_count": 73,
   "metadata": {},
   "outputs": [],
   "source": [
    "def data_clean(f):\n",
    "    if f.columns.isin(['Unnamed: 0']).sum()!=0:\n",
    "        f=f.drop('Unnamed: 0', axis=1)\n",
    "    cname=f.columns\n",
    "    for x in cname:\n",
    "        if f[x].isna().sum()!=0:\n",
    "            if f[x].dtype=='object':\n",
    "                # fills NaNs of the object.list with the mode of the list \n",
    "                f[x]=f[x].fillna(st.mode(f[x]))\n",
    "            \n",
    "            else:\n",
    "                # fills NaNs of the number.list with mean of the list \n",
    "                f[x]=f[x].fillna(np.mean(f[x]))\n",
    "                \n",
    "                f[f[x].isna()==True][x]=[f[x].mean()]*f[x].isna().sum()\n",
    "\n",
    "    return f\n"
   ]
  },
  {
   "cell_type": "code",
   "execution_count": 74,
   "metadata": {},
   "outputs": [
    {
     "name": "stdout",
     "output_type": "stream",
     "text": [
      "Customer                            0\n",
      "State                               0\n",
      "Customer Lifetime Value             0\n",
      "Response                            0\n",
      "Coverage                            0\n",
      "Education                           0\n",
      "Effective To Date                   0\n",
      "EmploymentStatus                    0\n",
      "Gender                              0\n",
      "Income                              0\n",
      "Location Code                       0\n",
      "Marital Status                      0\n",
      "Monthly Premium Auto                0\n",
      "Months Since Last Claim             0\n",
      "Months Since Policy Inception       0\n",
      "Number of Open Complaints           0\n",
      "Number of Policies                  0\n",
      "Policy Type                         0\n",
      "Policy                              0\n",
      "Renew Offer Type                    0\n",
      "Sales Channel                       0\n",
      "Total Claim Amount                  0\n",
      "Vehicle Class                       0\n",
      "Vehicle Size                        0\n",
      "Vehicle Type                     5482\n",
      "dtype: int64\n",
      "NaN    5482\n",
      "A      5428\n",
      "Name: Vehicle Type, dtype: int64\n"
     ]
    }
   ],
   "source": [
    "file=data_clean(file)\n",
    "print(file.isna().sum())\n",
    "print(file['Vehicle Type'].value_counts(dropna=False))\n"
   ]
  },
  {
   "cell_type": "markdown",
   "metadata": {},
   "source": [
    "Vehicle Type has more NaNs as entrys. The rest Entries only have the value A. \n",
    "=>Vehicle Type column can be droped"
   ]
  },
  {
   "cell_type": "code",
   "execution_count": 75,
   "metadata": {},
   "outputs": [
    {
     "name": "stdout",
     "output_type": "stream",
     "text": [
      "Customer                         0\n",
      "State                            0\n",
      "Customer Lifetime Value          0\n",
      "Response                         0\n",
      "Coverage                         0\n",
      "Education                        0\n",
      "Effective To Date                0\n",
      "EmploymentStatus                 0\n",
      "Gender                           0\n",
      "Income                           0\n",
      "Location Code                    0\n",
      "Marital Status                   0\n",
      "Monthly Premium Auto             0\n",
      "Months Since Last Claim          0\n",
      "Months Since Policy Inception    0\n",
      "Number of Open Complaints        0\n",
      "Number of Policies               0\n",
      "Policy Type                      0\n",
      "Policy                           0\n",
      "Renew Offer Type                 0\n",
      "Sales Channel                    0\n",
      "Total Claim Amount               0\n",
      "Vehicle Class                    0\n",
      "Vehicle Size                     0\n",
      "dtype: int64\n"
     ]
    }
   ],
   "source": [
    "\n",
    "file=file.drop(['Vehicle Type'], axis=1)\n",
    "print(file.isna().sum())"
   ]
  },
  {
   "cell_type": "code",
   "execution_count": 76,
   "metadata": {},
   "outputs": [
    {
     "name": "stdout",
     "output_type": "stream",
     "text": [
      "Customer                                 object\n",
      "State                                    object\n",
      "Customer Lifetime Value                 float64\n",
      "Response                                 object\n",
      "Coverage                                 object\n",
      "Education                                object\n",
      "Effective To Date                datetime64[ns]\n",
      "EmploymentStatus                         object\n",
      "Gender                                   object\n",
      "Income                                    int64\n",
      "Location Code                            object\n",
      "Marital Status                           object\n",
      "Monthly Premium Auto                      int64\n",
      "Months Since Last Claim                 float64\n",
      "Months Since Policy Inception             int64\n",
      "Number of Open Complaints               float64\n",
      "Number of Policies                        int64\n",
      "Policy Type                              object\n",
      "Policy                                   object\n",
      "Renew Offer Type                         object\n",
      "Sales Channel                            object\n",
      "Total Claim Amount                      float64\n",
      "Vehicle Class                            object\n",
      "Vehicle Size                             object\n",
      "Month                                     int64\n",
      "dtype: object\n",
      "1    5818\n",
      "2    5092\n",
      "Name: Month, dtype: int64\n"
     ]
    }
   ],
   "source": [
    "\n",
    "#date_time_task\n",
    "file['Effective To Date']=pd.to_datetime(file['Effective To Date'], errors='coerce')\n",
    "file['Month']=file['Effective To Date'].apply(lambda x: x.month)\n",
    "print(file.dtypes)\n",
    "print(file['Month'].value_counts())\n",
    "#All dates are from the 1. Quarter of the year\n",
    "file.to_csv('csv_files/marketing_customer_analysis1.csv',index=False)"
   ]
  },
  {
   "cell_type": "markdown",
   "metadata": {},
   "source": [
    "Round 3"
   ]
  },
  {
   "cell_type": "code",
   "execution_count": 77,
   "metadata": {},
   "outputs": [],
   "source": [
    "import matplotlib.pyplot as plt\n",
    "import seaborn as sns \n",
    "%matplotlib inline\n",
    "file=pd.read_csv('csv_files/marketing_customer_analysis1.csv')"
   ]
  },
  {
   "cell_type": "code",
   "execution_count": 78,
   "metadata": {},
   "outputs": [
    {
     "data": {
      "image/png": "[encoded data removed]",
      "text/plain": [
       "<Figure size 360x360 with 1 Axes>"
      ]
     },
     "metadata": {
      "needs_background": "light"
     },
     "output_type": "display_data"
    }
   ],
   "source": [
    "sns.displot(file['Response'])\n",
    "plt.show()"
   ]
  },
  {
   "cell_type": "code",
   "execution_count": 79,
   "metadata": {},
   "outputs": [
    {
     "name": "stdout",
     "output_type": "stream",
     "text": [
      "[0.1800533851007037, 0.10322279308734236, 0.10787557908669755, 0.1088560885608856] ['Agent' 'Call Center' 'Branch' 'Web']\n"
     ]
    },
    {
     "data": {
      "image/png": "[encoded data removed]",
      "text/plain": [
       "<Figure size 432x288 with 1 Axes>"
      ]
     },
     "metadata": {
      "needs_background": "light"
     },
     "output_type": "display_data"
    }
   ],
   "source": [
    "u1=file['Sales Channel'].value_counts()\n",
    "filey=file[file['Response']=='Yes']\n",
    "u2=filey['Sales Channel'].value_counts()\n",
    "# print(u2)\n",
    "#pd.to_numeric(u2,downcast='float')\n",
    "y1=[]\n",
    "for x in file['Sales Channel'].unique():\n",
    "    y1.append(float(u2[x])/float(u1[x]))\n",
    "\n",
    "#     #u2[x]=float(u2[x])/float(u1[x])\n",
    "print(y1,file['Sales Channel'].unique())\n",
    "# #u2=y1\n",
    "plt.bar(file['Sales Channel'].unique(),y1)\n",
    "plt.show()\n",
    "# #pd.DataFrame()\n",
    "# sns.displot(filey['Sales Channel'])\n",
    "# plt.show()"
   ]
  },
  {
   "cell_type": "code",
   "execution_count": 80,
   "metadata": {},
   "outputs": [
    {
     "data": {
      "image/png": "[encoded data removed]",
      "text/plain": [
       "<Figure size 432x288 with 1 Axes>"
      ]
     },
     "metadata": {
      "needs_background": "light"
     },
     "output_type": "display_data"
    }
   ],
   "source": [
    "\n",
    "# Bincration found in : https://stackoverflow.com/questions/1721273/howto-bin-series-of-float-values-into-histogram-in-python\n",
    "\n",
    "hisy, binedge=np.histogram(filey['Total Claim Amount'],bins=50)\n",
    "his, binedge=np.histogram(file['Total Claim Amount'],bins=binedge)\n",
    "\n",
    "x,y=[],[]\n",
    "for i in range(len(his)):\n",
    "    x.append(np.mean([binedge[i],binedge[i+1]]))\n",
    "    if hisy[i]==0:\n",
    "        y.append(0.)\n",
    "    else:\n",
    "        y.append(float(hisy[i])/float(his[i]))\n",
    "\n",
    "plt.bar(x,y,width=binedge[1]-binedge[0])\n",
    "plt.xlabel('Total Claim Amount')\n",
    "plt.ylabel('Response Rate')\n",
    "plt.show()\n",
    "#print(x,y)\n",
    "# dict={'No':0.,'Yes':1.}\n",
    "# file['Response']=file['Response'].apply(lambda x: dict[x])\n",
    "# print(file.columns)"
   ]
  },
  {
   "cell_type": "markdown",
   "metadata": {},
   "source": [
    "Round 4"
   ]
  },
  {
   "cell_type": "code",
   "execution_count": 81,
   "metadata": {},
   "outputs": [
    {
     "name": "stderr",
     "output_type": "stream",
     "text": [
      "C:\\Users\\lahrm\\AppData\\Local\\Temp/ipykernel_10436/577571231.py:7: FutureWarning: casting datetime64[ns] values to int64 with .astype(...) is deprecated and will raise in a future version. Use .view(...) instead.\n",
      "  file['Effective To Date']=pd.to_datetime(file['Effective To Date'], errors='coerce').astype(np.int64)\n"
     ]
    },
    {
     "data": {
      "text/html": [
       "<div>\n",
       "<style scoped>\n",
       "    .dataframe tbody tr th:only-of-type {\n",
       "        vertical-align: middle;\n",
       "    }\n",
       "\n",
       "    .dataframe tbody tr th {\n",
       "        vertical-align: top;\n",
       "    }\n",
       "\n",
       "    .dataframe thead th {\n",
       "        text-align: right;\n",
       "    }\n",
       "</style>\n",
       "<table border=\"1\" class=\"dataframe\">\n",
       "  <thead>\n",
       "    <tr style=\"text-align: right;\">\n",
       "      <th></th>\n",
       "      <th>Customer Lifetime Value</th>\n",
       "      <th>Effective To Date</th>\n",
       "      <th>Income</th>\n",
       "      <th>Monthly Premium Auto</th>\n",
       "      <th>Months Since Last Claim</th>\n",
       "      <th>Months Since Policy Inception</th>\n",
       "      <th>Number of Open Complaints</th>\n",
       "      <th>Number of Policies</th>\n",
       "      <th>Total Claim Amount</th>\n",
       "      <th>Month</th>\n",
       "    </tr>\n",
       "  </thead>\n",
       "  <tbody>\n",
       "    <tr>\n",
       "      <th>0</th>\n",
       "      <td>4809.216960</td>\n",
       "      <td>1297987200000000000</td>\n",
       "      <td>48029</td>\n",
       "      <td>61</td>\n",
       "      <td>7.000000</td>\n",
       "      <td>52</td>\n",
       "      <td>0.000000</td>\n",
       "      <td>9</td>\n",
       "      <td>292.800000</td>\n",
       "      <td>2</td>\n",
       "    </tr>\n",
       "    <tr>\n",
       "      <th>1</th>\n",
       "      <td>2228.525238</td>\n",
       "      <td>1295308800000000000</td>\n",
       "      <td>0</td>\n",
       "      <td>64</td>\n",
       "      <td>3.000000</td>\n",
       "      <td>26</td>\n",
       "      <td>0.000000</td>\n",
       "      <td>1</td>\n",
       "      <td>744.924331</td>\n",
       "      <td>1</td>\n",
       "    </tr>\n",
       "    <tr>\n",
       "      <th>2</th>\n",
       "      <td>14947.917300</td>\n",
       "      <td>1297296000000000000</td>\n",
       "      <td>22139</td>\n",
       "      <td>100</td>\n",
       "      <td>34.000000</td>\n",
       "      <td>31</td>\n",
       "      <td>0.000000</td>\n",
       "      <td>2</td>\n",
       "      <td>480.000000</td>\n",
       "      <td>2</td>\n",
       "    </tr>\n",
       "    <tr>\n",
       "      <th>3</th>\n",
       "      <td>22332.439460</td>\n",
       "      <td>1294704000000000000</td>\n",
       "      <td>49078</td>\n",
       "      <td>97</td>\n",
       "      <td>10.000000</td>\n",
       "      <td>3</td>\n",
       "      <td>0.000000</td>\n",
       "      <td>2</td>\n",
       "      <td>484.013411</td>\n",
       "      <td>1</td>\n",
       "    </tr>\n",
       "    <tr>\n",
       "      <th>4</th>\n",
       "      <td>9025.067525</td>\n",
       "      <td>1295222400000000000</td>\n",
       "      <td>23675</td>\n",
       "      <td>117</td>\n",
       "      <td>15.149071</td>\n",
       "      <td>31</td>\n",
       "      <td>0.384256</td>\n",
       "      <td>7</td>\n",
       "      <td>707.925645</td>\n",
       "      <td>1</td>\n",
       "    </tr>\n",
       "  </tbody>\n",
       "</table>\n",
       "</div>"
      ],
      "text/plain": [
       "   Customer Lifetime Value    Effective To Date  Income  Monthly Premium Auto  \\\n",
       "0              4809.216960  1297987200000000000   48029                    61   \n",
       "1              2228.525238  1295308800000000000       0                    64   \n",
       "2             14947.917300  1297296000000000000   22139                   100   \n",
       "3             22332.439460  1294704000000000000   49078                    97   \n",
       "4              9025.067525  1295222400000000000   23675                   117   \n",
       "\n",
       "   Months Since Last Claim  Months Since Policy Inception  \\\n",
       "0                 7.000000                             52   \n",
       "1                 3.000000                             26   \n",
       "2                34.000000                             31   \n",
       "3                10.000000                              3   \n",
       "4                15.149071                             31   \n",
       "\n",
       "   Number of Open Complaints  Number of Policies  Total Claim Amount  Month  \n",
       "0                   0.000000                   9          292.800000      2  \n",
       "1                   0.000000                   1          744.924331      1  \n",
       "2                   0.000000                   2          480.000000      2  \n",
       "3                   0.000000                   2          484.013411      1  \n",
       "4                   0.384256                   7          707.925645      1  "
      ]
     },
     "execution_count": 81,
     "metadata": {},
     "output_type": "execute_result"
    }
   ],
   "source": [
    "\n",
    "import numpy as np\n",
    "import matplotlib.pyplot as plt\n",
    "import seaborn as sns \n",
    "%matplotlib inline\n",
    "file=pd.read_csv('csv_files/marketing_customer_analysis1.csv')\n",
    "\n",
    "file['Effective To Date']=pd.to_datetime(file['Effective To Date'], errors='coerce').astype(np.int64)\n",
    "numerical=file.select_dtypes(include = np.number)\n",
    "categoricals=file.select_dtypes(include = object)\n",
    "numerical.head()"
   ]
  },
  {
   "cell_type": "code",
   "execution_count": 82,
   "metadata": {},
   "outputs": [
    {
     "data": {
      "image/png": "[encoded data removed]",
      "text/plain": [
       "<Figure size 360x360 with 1 Axes>"
      ]
     },
     "metadata": {
      "needs_background": "light"
     },
     "output_type": "display_data"
    },
    {
     "data": {
      "image/png": "[encoded data removed]",
      "text/plain": [
       "<Figure size 360x360 with 1 Axes>"
      ]
     },
     "metadata": {
      "needs_background": "light"
     },
     "output_type": "display_data"
    },
    {
     "data": {
      "image/png": "[encoded data removed]",
      "text/plain": [
       "<Figure size 360x360 with 1 Axes>"
      ]
     },
     "metadata": {
      "needs_background": "light"
     },
     "output_type": "display_data"
    },
    {
     "data": {
      "image/png": "[encoded data removed]",
      "text/plain": [
       "<Figure size 360x360 with 1 Axes>"
      ]
     },
     "metadata": {
      "needs_background": "light"
     },
     "output_type": "display_data"
    },
    {
     "data": {
      "image/png": "[encoded data removed]",
      "text/plain": [
       "<Figure size 360x360 with 1 Axes>"
      ]
     },
     "metadata": {
      "needs_background": "light"
     },
     "output_type": "display_data"
    },
    {
     "data": {
      "image/png": "[encoded data removed]",
      "text/plain": [
       "<Figure size 360x360 with 1 Axes>"
      ]
     },
     "metadata": {
      "needs_background": "light"
     },
     "output_type": "display_data"
    },
    {
     "data": {
      "image/png": "[encoded data removed]",
      "text/plain": [
       "<Figure size 360x360 with 1 Axes>"
      ]
     },
     "metadata": {
      "needs_background": "light"
     },
     "output_type": "display_data"
    },
    {
     "data": {
      "image/png": "[encoded data removed]",
      "text/plain": [
       "<Figure size 360x360 with 1 Axes>"
      ]
     },
     "metadata": {
      "needs_background": "light"
     },
     "output_type": "display_data"
    },
    {
     "data": {
      "image/png": "[encoded data removed]",
      "text/plain": [
       "<Figure size 360x360 with 1 Axes>"
      ]
     },
     "metadata": {
      "needs_background": "light"
     },
     "output_type": "display_data"
    },
    {
     "data": {
      "image/png": "[encoded data removed]",
      "text/plain": [
       "<Figure size 360x360 with 1 Axes>"
      ]
     },
     "metadata": {
      "needs_background": "light"
     },
     "output_type": "display_data"
    }
   ],
   "source": [
    "\n",
    "c=numerical.columns\n",
    "for x in c:\n",
    "    sns.displot(numerical[x])\n",
    "    plt.show()"
   ]
  },
  {
   "cell_type": "code",
   "execution_count": 83,
   "metadata": {},
   "outputs": [
    {
     "data": {
      "image/png": "[encoded data removed]",
      "text/plain": [
       "<Figure size 432x288 with 1 Axes>"
      ]
     },
     "metadata": {
      "needs_background": "light"
     },
     "output_type": "display_data"
    },
    {
     "data": {
      "image/png": "[encoded data removed]",
      "text/plain": [
       "<Figure size 432x288 with 1 Axes>"
      ]
     },
     "metadata": {
      "needs_background": "light"
     },
     "output_type": "display_data"
    },
    {
     "data": {
      "image/png": "[encoded data removed]",
      "text/plain": [
       "<Figure size 432x288 with 1 Axes>"
      ]
     },
     "metadata": {
      "needs_background": "light"
     },
     "output_type": "display_data"
    },
    {
     "data": {
      "image/png": "[encoded data removed]",
      "text/plain": [
       "<Figure size 432x288 with 1 Axes>"
      ]
     },
     "metadata": {
      "needs_background": "light"
     },
     "output_type": "display_data"
    },
    {
     "data": {
      "image/png": "[encoded data removed]",
      "text/plain": [
       "<Figure size 432x288 with 1 Axes>"
      ]
     },
     "metadata": {
      "needs_background": "light"
     },
     "output_type": "display_data"
    },
    {
     "data": {
      "image/png": "[encoded data removed]",
      "text/plain": [
       "<Figure size 432x288 with 1 Axes>"
      ]
     },
     "metadata": {
      "needs_background": "light"
     },
     "output_type": "display_data"
    },
    {
     "data": {
      "image/png": "[encoded data removed]",
      "text/plain": [
       "<Figure size 432x288 with 1 Axes>"
      ]
     },
     "metadata": {
      "needs_background": "light"
     },
     "output_type": "display_data"
    },
    {
     "data": {
      "image/png": "[encoded data removed]",
      "text/plain": [
       "<Figure size 432x288 with 1 Axes>"
      ]
     },
     "metadata": {
      "needs_background": "light"
     },
     "output_type": "display_data"
    },
    {
     "data": {
      "image/png": "[encoded data removed]",
      "text/plain": [
       "<Figure size 432x288 with 1 Axes>"
      ]
     },
     "metadata": {
      "needs_background": "light"
     },
     "output_type": "display_data"
    },
    {
     "data": {
      "image/png": "[encoded data removed]",
      "text/plain": [
       "<Figure size 432x288 with 1 Axes>"
      ]
     },
     "metadata": {
      "needs_background": "light"
     },
     "output_type": "display_data"
    }
   ],
   "source": [
    "for x in c:\n",
    "    numerical[x].hist()\n",
    "    plt.show()"
   ]
  },
  {
   "cell_type": "code",
   "execution_count": 84,
   "metadata": {},
   "outputs": [
    {
     "data": {
      "image/png": "[encoded data removed]",
      "text/plain": [
       "<Figure size 432x288 with 2 Axes>"
      ]
     },
     "metadata": {
      "needs_background": "light"
     },
     "output_type": "display_data"
    }
   ],
   "source": [
    "correlations_matrix = numerical.corr()\n",
    "sns.heatmap(correlations_matrix, annot=True)\n",
    "plt.show()"
   ]
  },
  {
   "cell_type": "markdown",
   "metadata": {},
   "source": [
    "Month is a value which can be derived from Effective To Date. => High Correlation, can be droped"
   ]
  },
  {
   "cell_type": "code",
   "execution_count": 85,
   "metadata": {},
   "outputs": [],
   "source": [
    "numerical=numerical.drop(['Month'], axis=1)\n"
   ]
  },
  {
   "cell_type": "markdown",
   "metadata": {},
   "source": [
    "Round 5"
   ]
  },
  {
   "cell_type": "code",
   "execution_count": 86,
   "metadata": {},
   "outputs": [],
   "source": [
    "import numpy as np\n",
    "\n",
    "# file=pd.read_csv('csv_files/marketing_customer_analysis1.csv')\n",
    "y=file['Total Claim Amount']\n",
    "X=file.drop(['Total Claim Amount'],axis=1)\n",
    "X_numerical=X.select_dtypes(include = np.number)\n",
    "X_categoricals=X.select_dtypes(include = object)\n"
   ]
  },
  {
   "cell_type": "code",
   "execution_count": 87,
   "metadata": {},
   "outputs": [
    {
     "data": {
      "text/html": [
       "<div>\n",
       "<style scoped>\n",
       "    .dataframe tbody tr th:only-of-type {\n",
       "        vertical-align: middle;\n",
       "    }\n",
       "\n",
       "    .dataframe tbody tr th {\n",
       "        vertical-align: top;\n",
       "    }\n",
       "\n",
       "    .dataframe thead th {\n",
       "        text-align: right;\n",
       "    }\n",
       "</style>\n",
       "<table border=\"1\" class=\"dataframe\">\n",
       "  <thead>\n",
       "    <tr style=\"text-align: right;\">\n",
       "      <th></th>\n",
       "      <th>Customer Lifetime Value</th>\n",
       "      <th>Effective To Date</th>\n",
       "      <th>Income</th>\n",
       "      <th>Monthly Premium Auto</th>\n",
       "      <th>Months Since Last Claim</th>\n",
       "      <th>Months Since Policy Inception</th>\n",
       "      <th>Number of Open Complaints</th>\n",
       "      <th>Number of Policies</th>\n",
       "      <th>Month</th>\n",
       "    </tr>\n",
       "  </thead>\n",
       "  <tbody>\n",
       "    <tr>\n",
       "      <th>0</th>\n",
       "      <td>-0.466105</td>\n",
       "      <td>1.125028</td>\n",
       "      <td>0.345635</td>\n",
       "      <td>-0.934819</td>\n",
       "      <td>-0.832977</td>\n",
       "      <td>0.139877</td>\n",
       "      <td>-4.339189e-01</td>\n",
       "      <td>2.509455</td>\n",
       "      <td>1.068914</td>\n",
       "    </tr>\n",
       "    <tr>\n",
       "      <th>1</th>\n",
       "      <td>-0.840946</td>\n",
       "      <td>-0.705863</td>\n",
       "      <td>-1.236462</td>\n",
       "      <td>-0.847713</td>\n",
       "      <td>-1.241846</td>\n",
       "      <td>-0.790709</td>\n",
       "      <td>-4.339189e-01</td>\n",
       "      <td>-0.824922</td>\n",
       "      <td>-0.935529</td>\n",
       "    </tr>\n",
       "    <tr>\n",
       "      <th>2</th>\n",
       "      <td>1.006523</td>\n",
       "      <td>0.652540</td>\n",
       "      <td>-0.507194</td>\n",
       "      <td>0.197554</td>\n",
       "      <td>1.926893</td>\n",
       "      <td>-0.611750</td>\n",
       "      <td>-4.339189e-01</td>\n",
       "      <td>-0.408125</td>\n",
       "      <td>1.068914</td>\n",
       "    </tr>\n",
       "    <tr>\n",
       "      <th>3</th>\n",
       "      <td>2.079112</td>\n",
       "      <td>-1.119290</td>\n",
       "      <td>0.380189</td>\n",
       "      <td>0.110448</td>\n",
       "      <td>-0.526325</td>\n",
       "      <td>-1.613919</td>\n",
       "      <td>-4.339189e-01</td>\n",
       "      <td>-0.408125</td>\n",
       "      <td>-0.935529</td>\n",
       "    </tr>\n",
       "    <tr>\n",
       "      <th>4</th>\n",
       "      <td>0.146240</td>\n",
       "      <td>-0.764924</td>\n",
       "      <td>-0.456597</td>\n",
       "      <td>0.691152</td>\n",
       "      <td>0.000000</td>\n",
       "      <td>-0.611750</td>\n",
       "      <td>-6.268564e-17</td>\n",
       "      <td>1.675860</td>\n",
       "      <td>-0.935529</td>\n",
       "    </tr>\n",
       "  </tbody>\n",
       "</table>\n",
       "</div>"
      ],
      "text/plain": [
       "   Customer Lifetime Value  Effective To Date    Income  Monthly Premium Auto  \\\n",
       "0                -0.466105           1.125028  0.345635             -0.934819   \n",
       "1                -0.840946          -0.705863 -1.236462             -0.847713   \n",
       "2                 1.006523           0.652540 -0.507194              0.197554   \n",
       "3                 2.079112          -1.119290  0.380189              0.110448   \n",
       "4                 0.146240          -0.764924 -0.456597              0.691152   \n",
       "\n",
       "   Months Since Last Claim  Months Since Policy Inception  \\\n",
       "0                -0.832977                       0.139877   \n",
       "1                -1.241846                      -0.790709   \n",
       "2                 1.926893                      -0.611750   \n",
       "3                -0.526325                      -1.613919   \n",
       "4                 0.000000                      -0.611750   \n",
       "\n",
       "   Number of Open Complaints  Number of Policies     Month  \n",
       "0              -4.339189e-01            2.509455  1.068914  \n",
       "1              -4.339189e-01           -0.824922 -0.935529  \n",
       "2              -4.339189e-01           -0.408125  1.068914  \n",
       "3              -4.339189e-01           -0.408125 -0.935529  \n",
       "4              -6.268564e-17            1.675860 -0.935529  "
      ]
     },
     "execution_count": 87,
     "metadata": {},
     "output_type": "execute_result"
    }
   ],
   "source": [
    "from sklearn.preprocessing import StandardScaler\n",
    "\n",
    "transformer = StandardScaler().fit(X_numerical)\n",
    "X_standardized = transformer.transform(X_numerical)\n",
    "X_standardized=pd.DataFrame(X_standardized, columns=X_numerical.columns)\n",
    "X_standardized.head()"
   ]
  },
  {
   "cell_type": "markdown",
   "metadata": {},
   "source": [
    "Round 6 "
   ]
  },
  {
   "cell_type": "code",
   "execution_count": 88,
   "metadata": {},
   "outputs": [
    {
     "data": {
      "text/html": [
       "<div>\n",
       "<style scoped>\n",
       "    .dataframe tbody tr th:only-of-type {\n",
       "        vertical-align: middle;\n",
       "    }\n",
       "\n",
       "    .dataframe tbody tr th {\n",
       "        vertical-align: top;\n",
       "    }\n",
       "\n",
       "    .dataframe thead th {\n",
       "        text-align: right;\n",
       "    }\n",
       "</style>\n",
       "<table border=\"1\" class=\"dataframe\">\n",
       "  <thead>\n",
       "    <tr style=\"text-align: right;\">\n",
       "      <th></th>\n",
       "      <th>Customer</th>\n",
       "      <th>State</th>\n",
       "      <th>Response</th>\n",
       "      <th>Coverage</th>\n",
       "      <th>Education</th>\n",
       "      <th>EmploymentStatus</th>\n",
       "      <th>Gender</th>\n",
       "      <th>Location Code</th>\n",
       "      <th>Marital Status</th>\n",
       "      <th>Policy Type</th>\n",
       "      <th>Policy</th>\n",
       "      <th>Renew Offer Type</th>\n",
       "      <th>Sales Channel</th>\n",
       "      <th>Vehicle Class</th>\n",
       "      <th>Vehicle Size</th>\n",
       "    </tr>\n",
       "  </thead>\n",
       "  <tbody>\n",
       "    <tr>\n",
       "      <th>0</th>\n",
       "      <td>DK49336</td>\n",
       "      <td>Arizona</td>\n",
       "      <td>No</td>\n",
       "      <td>Basic</td>\n",
       "      <td>College</td>\n",
       "      <td>Employed</td>\n",
       "      <td>M</td>\n",
       "      <td>Suburban</td>\n",
       "      <td>Married</td>\n",
       "      <td>Corporate Auto</td>\n",
       "      <td>Corporate L3</td>\n",
       "      <td>Offer3</td>\n",
       "      <td>Agent</td>\n",
       "      <td>Four-Door Car</td>\n",
       "      <td>Medsize</td>\n",
       "    </tr>\n",
       "    <tr>\n",
       "      <th>1</th>\n",
       "      <td>KX64629</td>\n",
       "      <td>California</td>\n",
       "      <td>No</td>\n",
       "      <td>Basic</td>\n",
       "      <td>College</td>\n",
       "      <td>Unemployed</td>\n",
       "      <td>F</td>\n",
       "      <td>Suburban</td>\n",
       "      <td>Single</td>\n",
       "      <td>Personal Auto</td>\n",
       "      <td>Personal L3</td>\n",
       "      <td>Offer4</td>\n",
       "      <td>Call Center</td>\n",
       "      <td>Four-Door Car</td>\n",
       "      <td>Medsize</td>\n",
       "    </tr>\n",
       "    <tr>\n",
       "      <th>2</th>\n",
       "      <td>LZ68649</td>\n",
       "      <td>Washington</td>\n",
       "      <td>No</td>\n",
       "      <td>Basic</td>\n",
       "      <td>Bachelor</td>\n",
       "      <td>Employed</td>\n",
       "      <td>M</td>\n",
       "      <td>Suburban</td>\n",
       "      <td>Single</td>\n",
       "      <td>Personal Auto</td>\n",
       "      <td>Personal L3</td>\n",
       "      <td>Offer3</td>\n",
       "      <td>Call Center</td>\n",
       "      <td>SUV</td>\n",
       "      <td>Medsize</td>\n",
       "    </tr>\n",
       "    <tr>\n",
       "      <th>3</th>\n",
       "      <td>XL78013</td>\n",
       "      <td>Oregon</td>\n",
       "      <td>Yes</td>\n",
       "      <td>Extended</td>\n",
       "      <td>College</td>\n",
       "      <td>Employed</td>\n",
       "      <td>M</td>\n",
       "      <td>Suburban</td>\n",
       "      <td>Single</td>\n",
       "      <td>Corporate Auto</td>\n",
       "      <td>Corporate L3</td>\n",
       "      <td>Offer2</td>\n",
       "      <td>Branch</td>\n",
       "      <td>Four-Door Car</td>\n",
       "      <td>Medsize</td>\n",
       "    </tr>\n",
       "    <tr>\n",
       "      <th>4</th>\n",
       "      <td>QA50777</td>\n",
       "      <td>Oregon</td>\n",
       "      <td>No</td>\n",
       "      <td>Premium</td>\n",
       "      <td>Bachelor</td>\n",
       "      <td>Medical Leave</td>\n",
       "      <td>F</td>\n",
       "      <td>Suburban</td>\n",
       "      <td>Married</td>\n",
       "      <td>Personal Auto</td>\n",
       "      <td>Personal L2</td>\n",
       "      <td>Offer1</td>\n",
       "      <td>Branch</td>\n",
       "      <td>Four-Door Car</td>\n",
       "      <td>Medsize</td>\n",
       "    </tr>\n",
       "  </tbody>\n",
       "</table>\n",
       "</div>"
      ],
      "text/plain": [
       "  Customer       State Response  Coverage Education EmploymentStatus Gender  \\\n",
       "0  DK49336     Arizona       No     Basic   College         Employed      M   \n",
       "1  KX64629  California       No     Basic   College       Unemployed      F   \n",
       "2  LZ68649  Washington       No     Basic  Bachelor         Employed      M   \n",
       "3  XL78013      Oregon      Yes  Extended   College         Employed      M   \n",
       "4  QA50777      Oregon       No   Premium  Bachelor    Medical Leave      F   \n",
       "\n",
       "  Location Code Marital Status     Policy Type        Policy Renew Offer Type  \\\n",
       "0      Suburban        Married  Corporate Auto  Corporate L3           Offer3   \n",
       "1      Suburban         Single   Personal Auto   Personal L3           Offer4   \n",
       "2      Suburban         Single   Personal Auto   Personal L3           Offer3   \n",
       "3      Suburban         Single  Corporate Auto  Corporate L3           Offer2   \n",
       "4      Suburban        Married   Personal Auto   Personal L2           Offer1   \n",
       "\n",
       "  Sales Channel  Vehicle Class Vehicle Size  \n",
       "0         Agent  Four-Door Car      Medsize  \n",
       "1   Call Center  Four-Door Car      Medsize  \n",
       "2   Call Center            SUV      Medsize  \n",
       "3        Branch  Four-Door Car      Medsize  \n",
       "4        Branch  Four-Door Car      Medsize  "
      ]
     },
     "execution_count": 88,
     "metadata": {},
     "output_type": "execute_result"
    }
   ],
   "source": [
    "from sklearn.preprocessing import LabelEncoder\n",
    "from sklearn.preprocessing import OneHotEncoder\n",
    "\n",
    "X_categoricals.head()"
   ]
  },
  {
   "cell_type": "markdown",
   "metadata": {},
   "source": [
    "Customer is a random generated code and is for every entry different."
   ]
  },
  {
   "cell_type": "code",
   "execution_count": 89,
   "metadata": {},
   "outputs": [],
   "source": [
    "X_categoricals=X_categoricals.drop(['Customer'], axis=1)"
   ]
  },
  {
   "cell_type": "code",
   "execution_count": 90,
   "metadata": {},
   "outputs": [],
   "source": [
    "\n",
    "X_ch=pd.DataFrame(X_categoricals['State'])\n",
    "encoder = OneHotEncoder().fit(X_ch)\n",
    "encoded = encoder.transform(X_ch).toarray()\n",
    "onehot_encoded = pd.DataFrame(encoded,columns=encoder.categories_)\n",
    "onehot_encoded=onehot_encoded.drop(['California'],axis=1)\n",
    "X_f=pd.concat([X_standardized,onehot_encoded], axis=1)"
   ]
  },
  {
   "cell_type": "code",
   "execution_count": 91,
   "metadata": {},
   "outputs": [],
   "source": [
    "X_ch=pd.DataFrame(X_categoricals['Response'])\n",
    "encoder = OneHotEncoder().fit(X_ch)\n",
    "encoded = encoder.transform(X_ch).toarray()\n",
    "onehot_encoded = pd.DataFrame(encoded,columns=encoder.categories_)\n",
    "onehot_encoded=onehot_encoded.drop(['No'],axis=1)\n",
    "X_f=pd.concat([X_f,onehot_encoded], axis=1)\n"
   ]
  },
  {
   "cell_type": "code",
   "execution_count": 92,
   "metadata": {},
   "outputs": [],
   "source": [
    "X_ch=pd.DataFrame(X_categoricals['Gender'])\n",
    "encoder = OneHotEncoder().fit(X_ch)\n",
    "encoded = encoder.transform(X_ch).toarray()\n",
    "onehot_encoded = pd.DataFrame(encoded,columns=encoder.categories_)\n",
    "onehot_encoded=onehot_encoded.drop(['F'],axis=1)\n",
    "X_f=pd.concat([X_f,onehot_encoded], axis=1)"
   ]
  },
  {
   "cell_type": "code",
   "execution_count": 93,
   "metadata": {},
   "outputs": [],
   "source": [
    "X_ch=pd.DataFrame(X_categoricals['Marital Status'])\n",
    "encoder = OneHotEncoder().fit(X_ch)\n",
    "encoded = encoder.transform(X_ch).toarray()\n",
    "onehot_encoded = pd.DataFrame(encoded,columns=encoder.categories_)\n",
    "onehot_encoded=onehot_encoded.drop(['Married'],axis=1)\n",
    "X_f=pd.concat([X_f,onehot_encoded], axis=1)\n",
    "#X_ch.value_counts()"
   ]
  },
  {
   "cell_type": "markdown",
   "metadata": {},
   "source": [
    "Policy Type is a summarized version of Policy=> no further used is needed"
   ]
  },
  {
   "cell_type": "code",
   "execution_count": 94,
   "metadata": {},
   "outputs": [],
   "source": [
    "X_ch=pd.DataFrame(X_categoricals['Policy'])\n",
    "encoder = OneHotEncoder().fit(X_ch)\n",
    "encoded = encoder.transform(X_ch).toarray()\n",
    "onehot_encoded = pd.DataFrame(encoded,columns=encoder.categories_)\n",
    "onehot_encoded=onehot_encoded.drop(['Personal L3'],axis=1)\n",
    "X_f=pd.concat([X_f,onehot_encoded], axis=1)\n",
    "#X_ch.value_counts()"
   ]
  },
  {
   "cell_type": "code",
   "execution_count": 95,
   "metadata": {},
   "outputs": [],
   "source": [
    "X_ch=pd.DataFrame(X_categoricals['Sales Channel'])\n",
    "encoder = OneHotEncoder().fit(X_ch)\n",
    "encoded = encoder.transform(X_ch).toarray()\n",
    "onehot_encoded = pd.DataFrame(encoded,columns=encoder.categories_)\n",
    "onehot_encoded=onehot_encoded.drop(['Agent'],axis=1)\n",
    "X_f=pd.concat([X_f,onehot_encoded], axis=1)\n",
    "#X_ch.value_counts()"
   ]
  },
  {
   "cell_type": "code",
   "execution_count": 96,
   "metadata": {},
   "outputs": [],
   "source": [
    "X_ch=pd.DataFrame(X_categoricals['Vehicle Class'])\n",
    "encoder = OneHotEncoder().fit(X_ch)\n",
    "encoded = encoder.transform(X_ch).toarray()\n",
    "onehot_encoded = pd.DataFrame(encoded,columns=encoder.categories_)\n",
    "onehot_encoded=onehot_encoded.drop(['Four-Door Car'],axis=1)\n",
    "X_f=pd.concat([X_f,onehot_encoded], axis=1)\n",
    "#X_ch.value_counts()"
   ]
  },
  {
   "cell_type": "code",
   "execution_count": 97,
   "metadata": {},
   "outputs": [],
   "source": [
    "X_ch=pd.DataFrame(X_categoricals['EmploymentStatus'])\n",
    "encoder = OneHotEncoder().fit(X_ch)\n",
    "encoded = encoder.transform(X_ch).toarray()\n",
    "onehot_encoded = pd.DataFrame(encoded,columns=encoder.categories_)\n",
    "onehot_encoded=onehot_encoded.drop(['Employed'],axis=1)\n",
    "X_f=pd.concat([X_f,onehot_encoded], axis=1)"
   ]
  },
  {
   "cell_type": "code",
   "execution_count": 98,
   "metadata": {},
   "outputs": [
    {
     "data": {
      "text/html": [
       "<div>\n",
       "<style scoped>\n",
       "    .dataframe tbody tr th:only-of-type {\n",
       "        vertical-align: middle;\n",
       "    }\n",
       "\n",
       "    .dataframe tbody tr th {\n",
       "        vertical-align: top;\n",
       "    }\n",
       "\n",
       "    .dataframe thead th {\n",
       "        text-align: right;\n",
       "    }\n",
       "</style>\n",
       "<table border=\"1\" class=\"dataframe\">\n",
       "  <thead>\n",
       "    <tr style=\"text-align: right;\">\n",
       "      <th></th>\n",
       "      <th>Customer Lifetime Value</th>\n",
       "      <th>Effective To Date</th>\n",
       "      <th>Income</th>\n",
       "      <th>Monthly Premium Auto</th>\n",
       "      <th>Months Since Last Claim</th>\n",
       "      <th>Months Since Policy Inception</th>\n",
       "      <th>Number of Open Complaints</th>\n",
       "      <th>Number of Policies</th>\n",
       "      <th>Month</th>\n",
       "      <th>(Arizona,)</th>\n",
       "      <th>...</th>\n",
       "      <th>(Web,)</th>\n",
       "      <th>(Luxury Car,)</th>\n",
       "      <th>(Luxury SUV,)</th>\n",
       "      <th>(SUV,)</th>\n",
       "      <th>(Sports Car,)</th>\n",
       "      <th>(Two-Door Car,)</th>\n",
       "      <th>(Disabled,)</th>\n",
       "      <th>(Medical Leave,)</th>\n",
       "      <th>(Retired,)</th>\n",
       "      <th>(Unemployed,)</th>\n",
       "    </tr>\n",
       "  </thead>\n",
       "  <tbody>\n",
       "    <tr>\n",
       "      <th>0</th>\n",
       "      <td>-0.466105</td>\n",
       "      <td>1.125028</td>\n",
       "      <td>0.345635</td>\n",
       "      <td>-0.934819</td>\n",
       "      <td>-0.832977</td>\n",
       "      <td>0.139877</td>\n",
       "      <td>-4.339189e-01</td>\n",
       "      <td>2.509455</td>\n",
       "      <td>1.068914</td>\n",
       "      <td>1.0</td>\n",
       "      <td>...</td>\n",
       "      <td>0.0</td>\n",
       "      <td>0.0</td>\n",
       "      <td>0.0</td>\n",
       "      <td>0.0</td>\n",
       "      <td>0.0</td>\n",
       "      <td>0.0</td>\n",
       "      <td>0.0</td>\n",
       "      <td>0.0</td>\n",
       "      <td>0.0</td>\n",
       "      <td>0.0</td>\n",
       "    </tr>\n",
       "    <tr>\n",
       "      <th>1</th>\n",
       "      <td>-0.840946</td>\n",
       "      <td>-0.705863</td>\n",
       "      <td>-1.236462</td>\n",
       "      <td>-0.847713</td>\n",
       "      <td>-1.241846</td>\n",
       "      <td>-0.790709</td>\n",
       "      <td>-4.339189e-01</td>\n",
       "      <td>-0.824922</td>\n",
       "      <td>-0.935529</td>\n",
       "      <td>0.0</td>\n",
       "      <td>...</td>\n",
       "      <td>0.0</td>\n",
       "      <td>0.0</td>\n",
       "      <td>0.0</td>\n",
       "      <td>0.0</td>\n",
       "      <td>0.0</td>\n",
       "      <td>0.0</td>\n",
       "      <td>0.0</td>\n",
       "      <td>0.0</td>\n",
       "      <td>0.0</td>\n",
       "      <td>1.0</td>\n",
       "    </tr>\n",
       "    <tr>\n",
       "      <th>2</th>\n",
       "      <td>1.006523</td>\n",
       "      <td>0.652540</td>\n",
       "      <td>-0.507194</td>\n",
       "      <td>0.197554</td>\n",
       "      <td>1.926893</td>\n",
       "      <td>-0.611750</td>\n",
       "      <td>-4.339189e-01</td>\n",
       "      <td>-0.408125</td>\n",
       "      <td>1.068914</td>\n",
       "      <td>0.0</td>\n",
       "      <td>...</td>\n",
       "      <td>0.0</td>\n",
       "      <td>0.0</td>\n",
       "      <td>0.0</td>\n",
       "      <td>1.0</td>\n",
       "      <td>0.0</td>\n",
       "      <td>0.0</td>\n",
       "      <td>0.0</td>\n",
       "      <td>0.0</td>\n",
       "      <td>0.0</td>\n",
       "      <td>0.0</td>\n",
       "    </tr>\n",
       "    <tr>\n",
       "      <th>3</th>\n",
       "      <td>2.079112</td>\n",
       "      <td>-1.119290</td>\n",
       "      <td>0.380189</td>\n",
       "      <td>0.110448</td>\n",
       "      <td>-0.526325</td>\n",
       "      <td>-1.613919</td>\n",
       "      <td>-4.339189e-01</td>\n",
       "      <td>-0.408125</td>\n",
       "      <td>-0.935529</td>\n",
       "      <td>0.0</td>\n",
       "      <td>...</td>\n",
       "      <td>0.0</td>\n",
       "      <td>0.0</td>\n",
       "      <td>0.0</td>\n",
       "      <td>0.0</td>\n",
       "      <td>0.0</td>\n",
       "      <td>0.0</td>\n",
       "      <td>0.0</td>\n",
       "      <td>0.0</td>\n",
       "      <td>0.0</td>\n",
       "      <td>0.0</td>\n",
       "    </tr>\n",
       "    <tr>\n",
       "      <th>4</th>\n",
       "      <td>0.146240</td>\n",
       "      <td>-0.764924</td>\n",
       "      <td>-0.456597</td>\n",
       "      <td>0.691152</td>\n",
       "      <td>0.000000</td>\n",
       "      <td>-0.611750</td>\n",
       "      <td>-6.268564e-17</td>\n",
       "      <td>1.675860</td>\n",
       "      <td>-0.935529</td>\n",
       "      <td>0.0</td>\n",
       "      <td>...</td>\n",
       "      <td>0.0</td>\n",
       "      <td>0.0</td>\n",
       "      <td>0.0</td>\n",
       "      <td>0.0</td>\n",
       "      <td>0.0</td>\n",
       "      <td>0.0</td>\n",
       "      <td>0.0</td>\n",
       "      <td>1.0</td>\n",
       "      <td>0.0</td>\n",
       "      <td>0.0</td>\n",
       "    </tr>\n",
       "  </tbody>\n",
       "</table>\n",
       "<p>5 rows × 37 columns</p>\n",
       "</div>"
      ],
      "text/plain": [
       "   Customer Lifetime Value  Effective To Date    Income  Monthly Premium Auto  \\\n",
       "0                -0.466105           1.125028  0.345635             -0.934819   \n",
       "1                -0.840946          -0.705863 -1.236462             -0.847713   \n",
       "2                 1.006523           0.652540 -0.507194              0.197554   \n",
       "3                 2.079112          -1.119290  0.380189              0.110448   \n",
       "4                 0.146240          -0.764924 -0.456597              0.691152   \n",
       "\n",
       "   Months Since Last Claim  Months Since Policy Inception  \\\n",
       "0                -0.832977                       0.139877   \n",
       "1                -1.241846                      -0.790709   \n",
       "2                 1.926893                      -0.611750   \n",
       "3                -0.526325                      -1.613919   \n",
       "4                 0.000000                      -0.611750   \n",
       "\n",
       "   Number of Open Complaints  Number of Policies     Month  (Arizona,)  ...  \\\n",
       "0              -4.339189e-01            2.509455  1.068914         1.0  ...   \n",
       "1              -4.339189e-01           -0.824922 -0.935529         0.0  ...   \n",
       "2              -4.339189e-01           -0.408125  1.068914         0.0  ...   \n",
       "3              -4.339189e-01           -0.408125 -0.935529         0.0  ...   \n",
       "4              -6.268564e-17            1.675860 -0.935529         0.0  ...   \n",
       "\n",
       "   (Web,)  (Luxury Car,)  (Luxury SUV,)  (SUV,)  (Sports Car,)  \\\n",
       "0     0.0            0.0            0.0     0.0            0.0   \n",
       "1     0.0            0.0            0.0     0.0            0.0   \n",
       "2     0.0            0.0            0.0     1.0            0.0   \n",
       "3     0.0            0.0            0.0     0.0            0.0   \n",
       "4     0.0            0.0            0.0     0.0            0.0   \n",
       "\n",
       "   (Two-Door Car,)  (Disabled,)  (Medical Leave,)  (Retired,)  (Unemployed,)  \n",
       "0              0.0          0.0               0.0         0.0            0.0  \n",
       "1              0.0          0.0               0.0         0.0            1.0  \n",
       "2              0.0          0.0               0.0         0.0            0.0  \n",
       "3              0.0          0.0               0.0         0.0            0.0  \n",
       "4              0.0          0.0               1.0         0.0            0.0  \n",
       "\n",
       "[5 rows x 37 columns]"
      ]
     },
     "execution_count": 98,
     "metadata": {},
     "output_type": "execute_result"
    }
   ],
   "source": [
    "X_f.head()"
   ]
  },
  {
   "cell_type": "code",
   "execution_count": 99,
   "metadata": {},
   "outputs": [
    {
     "name": "stderr",
     "output_type": "stream",
     "text": [
      "C:\\Users\\lahrm\\anaconda3\\lib\\site-packages\\sklearn\\utils\\validation.py:63: DataConversionWarning: A column-vector y was passed when a 1d array was expected. Please change the shape of y to (n_samples, ), for example using ravel().\n",
      "  return f(*args, **kwargs)\n"
     ]
    }
   ],
   "source": [
    "X_ch=pd.DataFrame(X_categoricals['Coverage'])\n",
    "label_encoded=LabelEncoder().fit(X_ch).transform(X_ch)\n",
    "label_encoded = pd.DataFrame(label_encoded,columns=X_ch.columns)\n",
    "X_f=pd.concat([X_f,label_encoded], axis=1)\n",
    "#X_ch.value_counts()"
   ]
  },
  {
   "cell_type": "code",
   "execution_count": 100,
   "metadata": {},
   "outputs": [],
   "source": [
    "X_ch=pd.DataFrame(X_categoricals['Education'])\n",
    "encoder=LabelEncoder().fit(X_ch)#.transform(X_ch)\n",
    "encoder.classes_=np.array(['High School or Below', 'College', 'Bachelor', 'Master', 'Doctor'])\n",
    "label_encoded=encoder.transform(X_ch)\n",
    "label_encoded = pd.DataFrame(label_encoded,columns=X_ch.columns)\n",
    "X_f=pd.concat([X_f,label_encoded], axis=1)\n",
    "#X_ch.value_counts()"
   ]
  },
  {
   "cell_type": "code",
   "execution_count": 101,
   "metadata": {},
   "outputs": [],
   "source": [
    "X_ch=pd.DataFrame(X_categoricals['Location Code'])\n",
    "encoder=LabelEncoder().fit(X_ch)#.transform(X_ch)\n",
    "encoder.classes_=np.array(['Rural', 'Suburban', 'Urban'])\n",
    "label_encoded=encoder.transform(X_ch)\n",
    "label_encoded = pd.DataFrame(label_encoded,columns=X_ch.columns)\n",
    "X_f=pd.concat([X_f,label_encoded], axis=1)\n",
    "#X_ch.value_counts()"
   ]
  },
  {
   "cell_type": "code",
   "execution_count": 102,
   "metadata": {},
   "outputs": [],
   "source": [
    "X_ch=pd.DataFrame(X_categoricals['Renew Offer Type'])\n",
    "encoder=LabelEncoder().fit(X_ch)#.transform(X_ch)\n",
    "encoder.classes_=np.array(['Offer1', 'Offer2', 'Offer3', 'Offer4'])\n",
    "label_encoded=encoder.transform(X_ch)\n",
    "label_encoded = pd.DataFrame(label_encoded,columns=X_ch.columns)\n",
    "X_f=pd.concat([X_f,label_encoded], axis=1)\n",
    "#X_ch.value_counts()"
   ]
  },
  {
   "cell_type": "code",
   "execution_count": 103,
   "metadata": {},
   "outputs": [],
   "source": [
    "X_ch=pd.DataFrame(X_categoricals['Vehicle Size'])\n",
    "encoder=LabelEncoder().fit(X_ch)#.transform(X_ch)\n",
    "encoder.classes_=np.array(['Small', 'Medsize', 'Large'])\n",
    "label_encoded=encoder.transform(X_ch)\n",
    "label_encoded = pd.DataFrame(label_encoded,columns=X_ch.columns)\n",
    "X_f=pd.concat([X_f,label_encoded], axis=1)"
   ]
  },
  {
   "cell_type": "markdown",
   "metadata": {},
   "source": [
    "Test Split"
   ]
  },
  {
   "cell_type": "code",
   "execution_count": 105,
   "metadata": {},
   "outputs": [],
   "source": [
    "from sklearn.model_selection import train_test_split\n",
    "X_train, X_test, y_train, y_test = train_test_split(X_f, y, test_size=0.2, random_state=42)"
   ]
  },
  {
   "cell_type": "code",
   "execution_count": 106,
   "metadata": {},
   "outputs": [
    {
     "data": {
      "text/plain": [
       "LinearRegression()"
      ]
     },
     "execution_count": 106,
     "metadata": {},
     "output_type": "execute_result"
    }
   ],
   "source": [
    "from sklearn import linear_model\n",
    "\n",
    "lm = linear_model.LinearRegression()\n",
    "lm.fit(X_train,y_train)\n"
   ]
  },
  {
   "cell_type": "code",
   "execution_count": 115,
   "metadata": {},
   "outputs": [
    {
     "name": "stdout",
     "output_type": "stream",
     "text": [
      "0.6300652878638512 32005.320916115208 178.9003099944637 129.59445329575547\n"
     ]
    }
   ],
   "source": [
    "from sklearn.metrics import r2_score,mean_squared_error,mean_absolute_error\n",
    "predictions = lm.predict(X_train)\n",
    "r2=r2_score(y_train, predictions)\n",
    "mse=mean_squared_error(y_train,predictions)\n",
    "rmse=mse**0.5\n",
    "mae=mean_absolute_error(y_train,predictions)\n",
    "print(r2,mse,rmse,mae)"
   ]
  },
  {
   "cell_type": "code",
   "execution_count": 116,
   "metadata": {},
   "outputs": [
    {
     "name": "stdout",
     "output_type": "stream",
     "text": [
      "0.6255493542344519 30234.25909488717 173.88001350036515 128.66839651253517\n"
     ]
    }
   ],
   "source": [
    "predictions = lm.predict(X_test)\n",
    "r2=r2_score(y_test, predictions)\n",
    "mse=mean_squared_error(y_test,predictions)\n",
    "rmse=mse**0.5\n",
    "mae=mean_absolute_error(y_test,predictions)\n",
    "print(r2,mse,rmse,mae)"
   ]
  },
  {
   "cell_type": "markdown",
   "metadata": {},
   "source": [
    "Round 7"
   ]
  },
  {
   "cell_type": "code",
   "execution_count": 117,
   "metadata": {},
   "outputs": [
    {
     "data": {
      "text/plain": [
       "LinearRegression()"
      ]
     },
     "execution_count": 117,
     "metadata": {},
     "output_type": "execute_result"
    }
   ],
   "source": [
    "# Use more input data\n",
    "\n",
    "X_train, X_test, y_train, y_test = train_test_split(X_f, y, test_size=0.1, random_state=42)\n",
    "lm = linear_model.LinearRegression()\n",
    "lm.fit(X_train,y_train)\n"
   ]
  },
  {
   "cell_type": "code",
   "execution_count": 118,
   "metadata": {},
   "outputs": [
    {
     "name": "stdout",
     "output_type": "stream",
     "text": [
      "0.6245852700867575 29696.521632506854 172.32678733298215 126.2723585382814\n"
     ]
    }
   ],
   "source": [
    "predictions = lm.predict(X_test)\n",
    "r2=r2_score(y_test, predictions)\n",
    "mse=mean_squared_error(y_test,predictions)\n",
    "rmse=mse**0.5\n",
    "mae=mean_absolute_error(y_test,predictions)\n",
    "print(r2,mse,rmse,mae)\n",
    "# R2 getting worse "
   ]
  },
  {
   "cell_type": "code",
   "execution_count": 119,
   "metadata": {},
   "outputs": [
    {
     "data": {
      "text/plain": [
       "LinearRegression()"
      ]
     },
     "execution_count": 119,
     "metadata": {},
     "output_type": "execute_result"
    }
   ],
   "source": [
    "X_train, X_test, y_train, y_test = train_test_split(X_f, y, test_size=0.5, random_state=42)\n",
    "lm = linear_model.LinearRegression()\n",
    "lm.fit(X_train,y_train)"
   ]
  },
  {
   "cell_type": "code",
   "execution_count": 120,
   "metadata": {},
   "outputs": [
    {
     "name": "stdout",
     "output_type": "stream",
     "text": [
      "0.6307390019138102 31245.736992867714 176.76463728038965 130.29499473577215\n"
     ]
    }
   ],
   "source": [
    "predictions = lm.predict(X_test)\n",
    "r2=r2_score(y_test, predictions)\n",
    "mse=mean_squared_error(y_test,predictions)\n",
    "rmse=mse**0.5\n",
    "mae=mean_absolute_error(y_test,predictions)\n",
    "print(r2,mse,rmse,mae)\n",
    "# R2 getting better"
   ]
  },
  {
   "cell_type": "code",
   "execution_count": 144,
   "metadata": {},
   "outputs": [
    {
     "name": "stdout",
     "output_type": "stream",
     "text": [
      "0.6326760331473886 30390.487056529266 174.3286753707756 129.0457631117237\n"
     ]
    }
   ],
   "source": [
    "X_train, X_test, y_train, y_test = train_test_split(X_f, y, test_size=0.3, random_state=42)\n",
    "lm = linear_model.LinearRegression()\n",
    "lm.fit(X_train,y_train)\n",
    "predictions = lm.predict(X_test)\n",
    "r2=r2_score(y_test, predictions)\n",
    "mse=mean_squared_error(y_test,predictions)\n",
    "rmse=mse**0.5\n",
    "mae=mean_absolute_error(y_test,predictions)\n",
    "print(r2,mse,rmse,mae)\n",
    "# R2 getting better\n",
    "\n",
    "# =>Testframe and Trainframe must be big enough "
   ]
  },
  {
   "cell_type": "code",
   "execution_count": 149,
   "metadata": {},
   "outputs": [
    {
     "name": "stdout",
     "output_type": "stream",
     "text": [
      "0.6326760331473886 30390.487056529266 174.3286753707756 129.04576311172366\n"
     ]
    }
   ],
   "source": [
    "#also normalize the Character data\n",
    "\n",
    "transformer = StandardScaler().fit(X_f)\n",
    "X_standardized = transformer.transform(X_f)\n",
    "X_standardized=pd.DataFrame(X_standardized, columns=X_f.columns)\n",
    "\n",
    "X_train, X_test, y_train, y_test = train_test_split(X_standardized, y, test_size=0.3, random_state=42)\n",
    "lm = linear_model.LinearRegression()\n",
    "lm.fit(X_train,y_train)\n",
    "predictions = lm.predict(X_test)\n",
    "r2=r2_score(y_test, predictions)\n",
    "mse=mean_squared_error(y_test,predictions)\n",
    "rmse=mse**0.5\n",
    "mae=mean_absolute_error(y_test,predictions)\n",
    "print(r2,mse,rmse,mae)\n",
    "#no difference"
   ]
  },
  {
   "cell_type": "code",
   "execution_count": 150,
   "metadata": {},
   "outputs": [
    {
     "name": "stdout",
     "output_type": "stream",
     "text": [
      "0.6326760331473886 30390.48705652926 174.32867537077558 129.04576311172366\n"
     ]
    }
   ],
   "source": [
    "#Other type of normalization\n",
    "from sklearn.preprocessing import MinMaxScaler\n",
    "transformer = MinMaxScaler().fit(X_f)\n",
    "X_standardized = transformer.transform(X_f)\n",
    "X_standardized=pd.DataFrame(X_standardized, columns=X_f.columns)\n",
    "\n",
    "X_train, X_test, y_train, y_test = train_test_split(X_standardized, y, test_size=0.3, random_state=42)\n",
    "lm = linear_model.LinearRegression()\n",
    "lm.fit(X_train,y_train)\n",
    "predictions = lm.predict(X_test)\n",
    "r2=r2_score(y_test, predictions)\n",
    "mse=mean_squared_error(y_test,predictions)\n",
    "rmse=mse**0.5\n",
    "mae=mean_absolute_error(y_test,predictions)\n",
    "print(r2,mse,rmse,mae)\n",
    "#no difference"
   ]
  }
 ],
 "metadata": {
  "interpreter": {
   "hash": "e956ae00da0b923c53eac0ba781c2d63e37e4818bc4e157197045199dda01c2a"
  },
  "kernelspec": {
   "display_name": "Python 3.9.7 64-bit ('base': conda)",
   "language": "python",
   "name": "python3"
  },
  "language_info": {
   "codemirror_mode": {
    "name": "ipython",
    "version": 3
   },
   "file_extension": ".py",
   "mimetype": "text/x-python",
   "name": "python",
   "nbconvert_exporter": "python",
   "pygments_lexer": "ipython3",
   "version": "3.9.7"
  },
  "orig_nbformat": 4
 },
 "nbformat": 4,
 "nbformat_minor": 2
}
